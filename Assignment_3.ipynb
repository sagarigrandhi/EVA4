{
  "nbformat": 4,
  "nbformat_minor": 0,
  "metadata": {
    "colab": {
      "name": "Assignment_3.ipynb",
      "provenance": [],
      "collapsed_sections": [],
      "include_colab_link": true
    },
    "kernelspec": {
      "name": "python3",
      "display_name": "Python 3"
    }
  },
  "cells": [
    {
      "cell_type": "markdown",
      "metadata": {
        "id": "view-in-github",
        "colab_type": "text"
      },
      "source": [
        "<a href=\"https://colab.research.google.com/github/Nisag/EVA4/blob/master/Assignment_3.ipynb\" target=\"_parent\"><img src=\"https://colab.research.google.com/assets/colab-badge.svg\" alt=\"Open In Colab\"/></a>"
      ]
    },
    {
      "cell_type": "markdown",
      "metadata": {
        "id": "_kYM3ylzYo1Q",
        "colab_type": "text"
      },
      "source": [
        "![PyTorch](https://devblogs.nvidia.com/wp-content/uploads/2017/04/pytorch-logo-dark.png)\n",
        "\n",
        "An open source machine learning framework that accelerates the path from research prototyping to production deployment.\n",
        "\n"
      ]
    },
    {
      "cell_type": "markdown",
      "metadata": {
        "id": "WcVqSTrWY6oz",
        "colab_type": "text"
      },
      "source": [
        "# Tensor - Pytorch's core data structure\n",
        "\n",
        "In Python we can create lists, lists of lists, lists of lists and so on. In NumPy there is a `numpy.ndarray` which represents `n`- dimensional array. In math there is a special name for the generalization of vectors and matrices to a higher dimensional space - a tensor\n",
        "\n",
        "Tensor is an entity with a defined number of dimensions called an order (rank). \n",
        "\n",
        "**Scalar** can be considered as a rank-0-tensor. \n",
        "\n",
        "**Vector** can be introduced as a rank-1-tensor. \n",
        "\n",
        "**Matrices** can be considered as a rank-2-tensor.\n",
        "\n",
        "# Tensor Basics\n",
        "\n",
        "Let's import the torch module first."
      ]
    },
    {
      "cell_type": "code",
      "metadata": {
        "id": "e-oFVL2tYYqp",
        "colab_type": "code",
        "colab": {}
      },
      "source": [
        "import numpy as np\n",
        "import torch"
      ],
      "execution_count": 0,
      "outputs": []
    },
    {
      "cell_type": "markdown",
      "metadata": {
        "id": "uGxuR5IEaFJa",
        "colab_type": "text"
      },
      "source": [
        "## Tensor Creation\n",
        "Let's view examples of matrices and tensors generation\n",
        "\n",
        "2-dimensional (rank-2) tensor of zeros:"
      ]
    },
    {
      "cell_type": "code",
      "metadata": {
        "id": "897JQc25aD3E",
        "colab_type": "code",
        "outputId": "82b0925c-b06a-40ed-8ccb-22098dca30cb",
        "colab": {
          "base_uri": "https://localhost:8080/",
          "height": 69
        }
      },
      "source": [
        "torch.zeros(3, 4)"
      ],
      "execution_count": 2,
      "outputs": [
        {
          "output_type": "execute_result",
          "data": {
            "text/plain": [
              "tensor([[0., 0., 0., 0.],\n",
              "        [0., 0., 0., 0.],\n",
              "        [0., 0., 0., 0.]])"
            ]
          },
          "metadata": {
            "tags": []
          },
          "execution_count": 2
        }
      ]
    },
    {
      "cell_type": "markdown",
      "metadata": {
        "id": "pujmpEBhaPRA",
        "colab_type": "text"
      },
      "source": [
        "Random rank-3 tensor:\n",
        "_read the print below and convince yourself how this is a rank-3-tensor and learn what those 2, 3, 4 values are there for_"
      ]
    },
    {
      "cell_type": "code",
      "metadata": {
        "id": "mBrznTNhaOL7",
        "colab_type": "code",
        "outputId": "6ecc27f8-44fb-4bfd-8a4d-3c86ba3b37b2",
        "colab": {
          "base_uri": "https://localhost:8080/",
          "height": 139
        }
      },
      "source": [
        "torch.rand(2, 3, 4)"
      ],
      "execution_count": 3,
      "outputs": [
        {
          "output_type": "execute_result",
          "data": {
            "text/plain": [
              "tensor([[[0.3376, 0.6734, 0.0745, 0.2112],\n",
              "         [0.0814, 0.8308, 0.7487, 0.6271],\n",
              "         [0.9845, 0.0485, 0.6864, 0.7887]],\n",
              "\n",
              "        [[0.5884, 0.9727, 0.4376, 0.7048],\n",
              "         [0.6403, 0.3292, 0.0975, 0.3133],\n",
              "         [0.7179, 0.2060, 0.5643, 0.8551]]])"
            ]
          },
          "metadata": {
            "tags": []
          },
          "execution_count": 3
        }
      ]
    },
    {
      "cell_type": "markdown",
      "metadata": {
        "id": "kO4fIr15asdi",
        "colab_type": "text"
      },
      "source": [
        "I am hoping you have noticed 4-elements in a row, 3 rows making one block and there are 2 blocks. \n",
        "\n",
        "Random rank-4-tensor:"
      ]
    },
    {
      "cell_type": "code",
      "metadata": {
        "id": "KiCLvMGCaVZ3",
        "colab_type": "code",
        "outputId": "21416373-fab7-4895-fe1b-52c2b8107533",
        "colab": {
          "base_uri": "https://localhost:8080/",
          "height": 225
        }
      },
      "source": [
        "torch.rand(2, 2, 2, 3)"
      ],
      "execution_count": 4,
      "outputs": [
        {
          "output_type": "execute_result",
          "data": {
            "text/plain": [
              "tensor([[[[2.0305e-01, 9.2029e-01, 1.9110e-01],\n",
              "          [4.0754e-01, 5.9344e-01, 8.2199e-01]],\n",
              "\n",
              "         [[8.4118e-01, 1.4222e-01, 2.5943e-01],\n",
              "          [1.2357e-01, 3.4148e-01, 5.1802e-01]]],\n",
              "\n",
              "\n",
              "        [[[8.8669e-01, 1.6954e-01, 3.1861e-01],\n",
              "          [5.5528e-04, 8.3755e-01, 7.2012e-01]],\n",
              "\n",
              "         [[7.3024e-02, 5.1420e-01, 5.0282e-01],\n",
              "          [4.7896e-01, 9.2099e-01, 8.3083e-01]]]])"
            ]
          },
          "metadata": {
            "tags": []
          },
          "execution_count": 4
        }
      ]
    },
    {
      "cell_type": "markdown",
      "metadata": {
        "id": "lF6VL68s3AMV",
        "colab_type": "text"
      },
      "source": [
        "## Question 1:\n",
        "\n",
        "How many dimensions are there in a tensor defined as below? Ans: 4"
      ]
    },
    {
      "cell_type": "code",
      "metadata": {
        "id": "8IbXcI3x3Ibt",
        "colab_type": "code",
        "outputId": "b98a76e6-8103-4d6b-a561-12ca2fae8dde",
        "colab": {
          "base_uri": "https://localhost:8080/",
          "height": 35
        }
      },
      "source": [
        "torch.rand(1, 1, 1, 1)"
      ],
      "execution_count": 5,
      "outputs": [
        {
          "output_type": "execute_result",
          "data": {
            "text/plain": [
              "tensor([[[[0.4799]]]])"
            ]
          },
          "metadata": {
            "tags": []
          },
          "execution_count": 5
        }
      ]
    },
    {
      "cell_type": "code",
      "metadata": {
        "id": "XQnbJ_jcPWzW",
        "colab_type": "code",
        "outputId": "d07813c0-e51c-485a-f484-4330922e25a2",
        "colab": {
          "base_uri": "https://localhost:8080/",
          "height": 35
        }
      },
      "source": [
        "# Q1\n",
        "a = torch.rand(1, 1, 1, 1)\n",
        "print(a.dim())"
      ],
      "execution_count": 6,
      "outputs": [
        {
          "output_type": "stream",
          "text": [
            "4\n"
          ],
          "name": "stdout"
        }
      ]
    },
    {
      "cell_type": "markdown",
      "metadata": {
        "id": "qmgpqssRa9jF",
        "colab_type": "text"
      },
      "source": [
        ".\n",
        "\n",
        "---\n",
        "\n",
        "\n",
        "There are many more ways to create tensor using some restrictions on values it should contain - for the full reference, please follow the [official docs](https://pytorch.org/docs/stable/torch.html#creation-ops). \n",
        "\n",
        "\n",
        ".\n",
        "---\n",
        "\n",
        "\n",
        "# Python / NumPy / Pytorch interoperability\n",
        "\n",
        "You can create tensors from python as well as numpy arrays. You can also convert torch tensors to numpy arrays. So, the interoperability between torch and numpy is pretty good. "
      ]
    },
    {
      "cell_type": "code",
      "metadata": {
        "id": "ipgpeWPfa6gE",
        "colab_type": "code",
        "outputId": "50949224-02af-4101-895e-4804b87a1915",
        "colab": {
          "base_uri": "https://localhost:8080/",
          "height": 121
        }
      },
      "source": [
        "# Simple Python List\n",
        "python_list = [1, 2]\n",
        "\n",
        "# Create a numpy array from python list\n",
        "numpy_array = np.array(python_list)\n",
        "\n",
        "# Create a torch Tensor from python list\n",
        "tensor_from_list = torch.tensor(python_list)\n",
        "\n",
        "# Create a torch Tensor from Numpy array\n",
        "tensor_from_array = torch.tensor(numpy_array)\n",
        "\n",
        "# Another way to create a torch Tensor from Numpy array (share same storage)\n",
        "tensor_from_array_v2 = torch.from_numpy(numpy_array)\n",
        "\n",
        "# Convert torch tensor to numpy array\n",
        "array_from_tensor = tensor_from_array.numpy()\n",
        "\n",
        "print('List:   ', python_list)\n",
        "print('Array:  ', numpy_array)\n",
        "print('Tensor: ', tensor_from_list)\n",
        "print('Tensor: ', tensor_from_array)\n",
        "print('Tensor: ', tensor_from_array_v2)\n",
        "print('Array:  ', array_from_tensor)"
      ],
      "execution_count": 7,
      "outputs": [
        {
          "output_type": "stream",
          "text": [
            "List:    [1, 2]\n",
            "Array:   [1 2]\n",
            "Tensor:  tensor([1, 2])\n",
            "Tensor:  tensor([1, 2])\n",
            "Tensor:  tensor([1, 2])\n",
            "Array:   [1 2]\n"
          ],
          "name": "stdout"
        }
      ]
    },
    {
      "cell_type": "code",
      "metadata": {
        "id": "ZkhHpuM_V293",
        "colab_type": "code",
        "colab": {
          "base_uri": "https://localhost:8080/",
          "height": 121
        },
        "outputId": "0c94724c-940f-4f45-bb56-6dd36a9c9049"
      },
      "source": [
        "# Memory behavior\n",
        "np_array = np.array([1,2])\n",
        "print(np_array.__array_interface__['data'][0])\n",
        "\n",
        "tensor_list = torch.tensor([1,2])\n",
        "print(tensor_list.data_ptr())\n",
        "\n",
        "tensor_array1 = torch.tensor(np_array)\n",
        "print(tensor_array1.data_ptr())\n",
        "\n",
        "tensor_array2 = torch.from_numpy(np_array)\n",
        "print(tensor_array2.data_ptr()) # shares np_array address\n",
        "\n",
        "array_tensor1 = tensor_array1.numpy()\n",
        "print(array_tensor1.__array_interface__['data'][0]) # shares the tensor_array1 address\n",
        "\n",
        "array_tensor2 = tensor_array2.numpy()\n",
        "print(array_tensor2.__array_interface__['data'][0]) # shares the tensor_array2 address which is sharing np_array address"
      ],
      "execution_count": 35,
      "outputs": [
        {
          "output_type": "stream",
          "text": [
            "96430016\n",
            "96326592\n",
            "69744128\n",
            "96430016\n",
            "69744128\n",
            "96430016\n"
          ],
          "name": "stdout"
        }
      ]
    },
    {
      "cell_type": "markdown",
      "metadata": {
        "id": "X_x-86B8gqik",
        "colab_type": "text"
      },
      "source": [
        "**Difference between** `torch.Tensor` **and** `torch.from_numpy`\n",
        "\n",
        "Pytorch aims to be an effective library for computations. What does it mean? It means that **pytorch avoids memory copying if it can.** "
      ]
    },
    {
      "cell_type": "code",
      "metadata": {
        "id": "eHCKDGpygn_d",
        "colab_type": "code",
        "outputId": "9a96f34c-8d04-4b36-a369-e5783445c241",
        "colab": {
          "base_uri": "https://localhost:8080/",
          "height": 69
        }
      },
      "source": [
        "numpy_array[0] = 10\n",
        "\n",
        "print('Array:  ', numpy_array)\n",
        "print('Tensor: ', tensor_from_array)\n",
        "print('Tensor: ', tensor_from_array_v2) # changes to numpy array changes the tensor."
      ],
      "execution_count": 8,
      "outputs": [
        {
          "output_type": "stream",
          "text": [
            "Array:   [10  2]\n",
            "Tensor:  tensor([1, 2])\n",
            "Tensor:  tensor([10,  2])\n"
          ],
          "name": "stdout"
        }
      ]
    },
    {
      "cell_type": "markdown",
      "metadata": {
        "id": "-CKtdNRM3SMp",
        "colab_type": "text"
      },
      "source": [
        "## Question 2:\n",
        "\n",
        "Assume that we moved our complete (cats vs dogs) image dataset to numpy arrays. Then we use torch.from_numpy to convert these images to tensor. Then we apply a specific data augmentation strategy called \"CutOut\" which blocks a portion of the image directly on these tensors. What will happen to the accuracy of a model trained on this strategy compared to the one without this strategy? CutOut strategy is shown below: \n",
        "\n",
        "![CutOut](https://encrypted-tbn0.gstatic.com/images?q=tbn%3AANd9GcSnSyN835AmtQPKQbPjDHX-FmshNilbtexX95cRGQPwl56QCGDn)\n",
        "\n",
        "Ans: Not attempted \n",
        "(Our model will not train and get stuck at 50% accuracy.)\n",
        "## Question 3:\n",
        "Why do you think we are observing this behavior?\n",
        "Ans: Not attempted \n",
        "\n",
        "(The way we have implemented the strategy, we will end up adding black blocks on images while changing the original image. After few operations, whole image will just be black.Then network would see just black images for dogs and cats, and thereby failing in recognizing either, getting stuck at 50% accuracy.) \n",
        "\n",
        "\n",
        "\n",
        "---\n",
        "\n",
        "\n"
      ]
    },
    {
      "cell_type": "markdown",
      "metadata": {
        "id": "dZq7O-aihSOA",
        "colab_type": "text"
      },
      "source": [
        "We have two different ways to create tensor from its NumPy counterpart - one copies memory and another one shares the same underlying storage. It works in the opposite way:"
      ]
    },
    {
      "cell_type": "code",
      "metadata": {
        "id": "TNFOwV8EhPwQ",
        "colab_type": "code",
        "outputId": "1b56b36c-c9a7-48e5-cc7e-4d55034a8a23",
        "colab": {
          "base_uri": "https://localhost:8080/",
          "height": 87
        }
      },
      "source": [
        "array_from_tensor = tensor_from_array.numpy() # created from  torch.tensor(np_array)\n",
        "print('Tensor: ', tensor_from_array)\n",
        "print('Array: ', array_from_tensor)\n",
        "\n",
        "tensor_from_array[0] = 11  # changes to tensor changes the numpy array.\n",
        "print('Tensor: ', tensor_from_array)\n",
        "print('Array: ', array_from_tensor) "
      ],
      "execution_count": 9,
      "outputs": [
        {
          "output_type": "stream",
          "text": [
            "Tensor:  tensor([1, 2])\n",
            "Array:  [1 2]\n",
            "Tensor:  tensor([11,  2])\n",
            "Array:  [11  2]\n"
          ],
          "name": "stdout"
        }
      ]
    },
    {
      "cell_type": "markdown",
      "metadata": {
        "id": "UM9ytbvKhtCw",
        "colab_type": "text"
      },
      "source": [
        "## Data types\n",
        "\n",
        "The basic data type of all Deep Learning-related operations is float, but sometimes you may need something else. Pytorch supports different number types for its tensors the same way NumPy does it - by specifying the data type on tensor creation or via casting. Ths full list of supported data types can be found [here](https://pytorch.org/docs/stable/tensors.html). "
      ]
    },
    {
      "cell_type": "code",
      "metadata": {
        "id": "Bd6WkzJ4hpYi",
        "colab_type": "code",
        "outputId": "ee821dcb-b579-4ac7-8592-66e8cc425913",
        "colab": {
          "base_uri": "https://localhost:8080/",
          "height": 156
        }
      },
      "source": [
        "tensor = torch.zeros(2, 2)\n",
        "print('Tensor with default type: ', tensor)\n",
        "tensor = torch.zeros(2, 2, dtype=torch.float16)\n",
        "print('Tensor with 16-bit float: ', tensor)\n",
        "tensor = torch.zeros(2, 2, dtype=torch.int16)\n",
        "print('Tensor with integers: ', tensor)\n",
        "tensor = torch.zeros(2, 2, dtype=torch.bool)\n",
        "print('Tensor with boolean data: ', tensor)"
      ],
      "execution_count": 10,
      "outputs": [
        {
          "output_type": "stream",
          "text": [
            "Tensor with default type:  tensor([[0., 0.],\n",
            "        [0., 0.]])\n",
            "Tensor with 16-bit float:  tensor([[0., 0.],\n",
            "        [0., 0.]], dtype=torch.float16)\n",
            "Tensor with integers:  tensor([[0, 0],\n",
            "        [0, 0]], dtype=torch.int16)\n",
            "Tensor with boolean data:  tensor([[False, False],\n",
            "        [False, False]])\n"
          ],
          "name": "stdout"
        }
      ]
    },
    {
      "cell_type": "markdown",
      "metadata": {
        "id": "a9F4Dkdr40TE",
        "colab_type": "text"
      },
      "source": [
        "\n",
        "\n",
        "---\n",
        "\n",
        "\n",
        "## Question 4:\n",
        "We saw above that some times numpy and tensors share same storage and changing one changes the other. \n",
        "If we define a rank-2-tensor with ones (dtype of f16), and then convert it into a numpy data type using tensor.numpy() and store it in a variable called \"num\", and then we perform this operation `num = num * 0.5`, will the original tensor have 1.0s or 0.5s as its element values?  Ans: 1.0s \n"
      ]
    },
    {
      "cell_type": "code",
      "metadata": {
        "id": "Q9wKttDoGtV8",
        "colab_type": "code",
        "outputId": "cadc7136-de6f-4f60-c32c-e696bebb6d1f",
        "colab": {
          "base_uri": "https://localhost:8080/",
          "height": 139
        }
      },
      "source": [
        "# Q4\n",
        "tensor = torch.ones(2, 2, dtype=torch.float16)\n",
        "print(tensor.data_ptr())\n",
        "num = tensor.numpy() \n",
        "print(num.__array_interface__['data'][0]) \n",
        "num = num * 0.5 \n",
        "print(num.__array_interface__['data'][0]) # it's not a pointer linking back\n",
        "print(tensor)\n",
        "print(num)"
      ],
      "execution_count": 25,
      "outputs": [
        {
          "output_type": "stream",
          "text": [
            "69738560\n",
            "69738560\n",
            "91484400\n",
            "tensor([[1., 1.],\n",
            "        [1., 1.]], dtype=torch.float16)\n",
            "[[0.5 0.5]\n",
            " [0.5 0.5]]\n"
          ],
          "name": "stdout"
        }
      ]
    },
    {
      "cell_type": "code",
      "metadata": {
        "id": "8U8VKs2kSQVT",
        "colab_type": "code",
        "colab": {
          "base_uri": "https://localhost:8080/",
          "height": 139
        },
        "outputId": "691353d8-caed-4327-d37c-facb96c8e5ec"
      },
      "source": [
        "# Similar example\n",
        "tensor = torch.ones(2, 2, dtype=torch.float16)\n",
        "print(tensor.data_ptr())\n",
        "num = tensor.numpy() \n",
        "print(num.__array_interface__['data'][0]) \n",
        "num = num + 0.5\n",
        "print(num.__array_interface__['data'][0]) \n",
        "print(tensor)\n",
        "print(num)"
      ],
      "execution_count": 28,
      "outputs": [
        {
          "output_type": "stream",
          "text": [
            "69743872\n",
            "69743872\n",
            "42984768\n",
            "tensor([[1., 1.],\n",
            "        [1., 1.]], dtype=torch.float16)\n",
            "[[1.5 1.5]\n",
            " [1.5 1.5]]\n"
          ],
          "name": "stdout"
        }
      ]
    },
    {
      "cell_type": "markdown",
      "metadata": {
        "id": "OiQt8Mmm51OE",
        "colab_type": "text"
      },
      "source": [
        "\n",
        "\n",
        "---\n",
        "\n",
        "## Question 5: \n",
        "If the operation `num = num*5` is changed to `num[:] = num*0.5` will the original tensor have 1.0s or 0.5s as its element values? Ans: 0.5s\n",
        "\n",
        "\n",
        "\n",
        "---\n",
        "\n"
      ]
    },
    {
      "cell_type": "code",
      "metadata": {
        "id": "-iN_WcGEIPMp",
        "colab_type": "code",
        "outputId": "eb092768-afc6-4d8f-c606-eb3ee7156597",
        "colab": {
          "base_uri": "https://localhost:8080/",
          "height": 139
        }
      },
      "source": [
        "# Q5 # A slice of an array is a view into the same data, so modifying it will modify the original array.\n",
        "tensor = torch.ones(2, 2, dtype=torch.float16)\n",
        "print(tensor.data_ptr())\n",
        "num = tensor.numpy()\n",
        "print(num.__array_interface__['data'][0]) \n",
        "num[:] = num * 0.5 # we have made an array as a pointer # get a slice of the whole\n",
        "print(num.__array_interface__['data'][0]) \n",
        "print(tensor) \n",
        "print(num)"
      ],
      "execution_count": 26,
      "outputs": [
        {
          "output_type": "stream",
          "text": [
            "69743872\n",
            "69743872\n",
            "69743872\n",
            "tensor([[0.5000, 0.5000],\n",
            "        [0.5000, 0.5000]], dtype=torch.float16)\n",
            "[[0.5 0.5]\n",
            " [0.5 0.5]]\n"
          ],
          "name": "stdout"
        }
      ]
    },
    {
      "cell_type": "code",
      "metadata": {
        "id": "jKsHDzHaSTpK",
        "colab_type": "code",
        "colab": {
          "base_uri": "https://localhost:8080/",
          "height": 139
        },
        "outputId": "106daaae-ffdc-4f31-aa12-f635db70e63f"
      },
      "source": [
        "# Similar example\n",
        "tensor = torch.ones(2, 2, dtype=torch.float16)\n",
        "print(tensor.data_ptr())\n",
        "num = tensor.numpy() \n",
        "print(num.__array_interface__['data'][0]) \n",
        "num += 0.5\n",
        "print(num.__array_interface__['data'][0]) \n",
        "print(tensor)\n",
        "print(num)"
      ],
      "execution_count": 27,
      "outputs": [
        {
          "output_type": "stream",
          "text": [
            "69738560\n",
            "69738560\n",
            "69738560\n",
            "tensor([[1.5000, 1.5000],\n",
            "        [1.5000, 1.5000]], dtype=torch.float16)\n",
            "[[1.5 1.5]\n",
            " [1.5 1.5]]\n"
          ],
          "name": "stdout"
        }
      ]
    },
    {
      "cell_type": "markdown",
      "metadata": {
        "id": "vzh8UB8KiVmb",
        "colab_type": "text"
      },
      "source": [
        "## Indexing\n",
        "\n",
        "Tensor provides access to its elements via the same `[]` operation as a regular python list or NumPy array. However, as you may recall from NumPy usage, the full power of math libraries is accessible only via vectorized operations, i.e. operations without explicit looping over all vector elements in python and using implicit optimized loops in C/C++/CUDA/Fortran/etc. available via special function calls. Pytorch employs the same paradigm and provides a wide range of vectorized operations. Let's take a look at some examples. \n",
        "\n",
        "Joining a list of tensors together with `torch.cat`"
      ]
    },
    {
      "cell_type": "code",
      "metadata": {
        "id": "GMaCDKPhiUAb",
        "colab_type": "code",
        "outputId": "2082df07-0961-47b7-c258-ba060dd66c45",
        "colab": {
          "base_uri": "https://localhost:8080/",
          "height": 121
        }
      },
      "source": [
        "a = torch.zeros(3, 2)\n",
        "b = torch.ones(3, 2)\n",
        "print(torch.cat((a, b), dim=0))"
      ],
      "execution_count": 0,
      "outputs": [
        {
          "output_type": "stream",
          "text": [
            "tensor([[0., 0.],\n",
            "        [0., 0.],\n",
            "        [0., 0.],\n",
            "        [1., 1.],\n",
            "        [1., 1.],\n",
            "        [1., 1.]])\n"
          ],
          "name": "stdout"
        }
      ]
    },
    {
      "cell_type": "markdown",
      "metadata": {
        "id": "5bj4aeE86zdH",
        "colab_type": "text"
      },
      "source": [
        "\n",
        "\n",
        "---\n",
        "\n",
        "## Question 6: \n",
        "Is the transpose of concatenated a & b tensor on dimension 1, same as the contatenated tensor of a & b on dimension 0? Ans: No\n",
        "\n",
        "\n",
        "\n",
        "---\n",
        "\n"
      ]
    },
    {
      "cell_type": "code",
      "metadata": {
        "id": "cSdr6OfTI4aM",
        "colab_type": "code",
        "outputId": "6921505f-a442-40db-9f73-5c6a7e9117fd",
        "colab": {
          "base_uri": "https://localhost:8080/",
          "height": 191
        }
      },
      "source": [
        "# Q6\n",
        "a = torch.zeros(3, 2)\n",
        "b = torch.ones(3, 2)\n",
        "cat_0 = torch.cat((a,b),dim=0)\n",
        "cat_1 = torch.cat((a,b),dim=1)\n",
        "print(cat_0)\n",
        "print(cat_1.T) # can check shapes"
      ],
      "execution_count": 0,
      "outputs": [
        {
          "output_type": "stream",
          "text": [
            "tensor([[0., 0.],\n",
            "        [0., 0.],\n",
            "        [0., 0.],\n",
            "        [1., 1.],\n",
            "        [1., 1.],\n",
            "        [1., 1.]])\n",
            "tensor([[0., 0., 0.],\n",
            "        [0., 0., 0.],\n",
            "        [1., 1., 1.],\n",
            "        [1., 1., 1.]])\n"
          ],
          "name": "stdout"
        }
      ]
    },
    {
      "cell_type": "markdown",
      "metadata": {
        "id": "0TXNne69j7LP",
        "colab_type": "text"
      },
      "source": [
        "Indexing with another tensor/array:"
      ]
    },
    {
      "cell_type": "code",
      "metadata": {
        "id": "KiE-Fsi4jVd6",
        "colab_type": "code",
        "outputId": "d300ce4c-bcbf-4f85-d164-21451d567dc5",
        "colab": {
          "base_uri": "https://localhost:8080/",
          "height": 104
        }
      },
      "source": [
        "a = torch.arange(start=0, end=10)\n",
        "indices = np.arange(0, 10) > 5\n",
        "print(a)\n",
        "print(indices)\n",
        "print(a[indices])\n",
        "\n",
        "indices = torch.arange(start=0, end=10) %5\n",
        "print(indices)\n",
        "print(a[indices])"
      ],
      "execution_count": 0,
      "outputs": [
        {
          "output_type": "stream",
          "text": [
            "tensor([0, 1, 2, 3, 4, 5, 6, 7, 8, 9])\n",
            "[False False False False False False  True  True  True  True]\n",
            "tensor([6, 7, 8, 9])\n",
            "tensor([0, 1, 2, 3, 4, 0, 1, 2, 3, 4])\n",
            "tensor([0, 1, 2, 3, 4, 0, 1, 2, 3, 4])\n"
          ],
          "name": "stdout"
        }
      ]
    },
    {
      "cell_type": "markdown",
      "metadata": {
        "id": "LS4dnlu47WQu",
        "colab_type": "text"
      },
      "source": [
        "\n",
        "\n",
        "---\n",
        "\n",
        "## Question 7:\n",
        "\n",
        "`a` is defined as `torch.arange(start=0, end=10)`. We will create `b` using the two operations as below. In both cases do we get the same value?\n",
        "\n",
        "\n",
        "1.   indices variable created by the modulo operation on arange between 0 and 10. Then a new varialble `b` is created from `a` using the last 5 elements of indices. \n",
        "2.   indices variable created by the modulo operation on arange between 1 and 11. Then a new varialble `b` is created from `a` using the last 5 elements of indices.\n",
        "\n",
        "Ans: False (this is the right answer)\n",
        "\n",
        "\n",
        "\n",
        "---\n",
        "\n",
        "\n"
      ]
    },
    {
      "cell_type": "code",
      "metadata": {
        "id": "Ub3Hbe0OLzN5",
        "colab_type": "code",
        "colab": {}
      },
      "source": [
        "# Q7 \n",
        "a = torch.arange(start=0, end=10)"
      ],
      "execution_count": 0,
      "outputs": []
    },
    {
      "cell_type": "code",
      "metadata": {
        "id": "Byj8WXm0KoA2",
        "colab_type": "code",
        "outputId": "3358e16f-ae10-4548-997a-e8c66b874853",
        "colab": {
          "base_uri": "https://localhost:8080/",
          "height": 35
        }
      },
      "source": [
        "indices = torch.arange(start = 0, end = 10) % 5\n",
        "b = a[indices[5:]]\n",
        "print(b)"
      ],
      "execution_count": 0,
      "outputs": [
        {
          "output_type": "stream",
          "text": [
            "tensor([0, 1, 2, 3, 4])\n"
          ],
          "name": "stdout"
        }
      ]
    },
    {
      "cell_type": "code",
      "metadata": {
        "id": "x1wTO1N4LUJS",
        "colab_type": "code",
        "outputId": "a390871e-2a26-4670-e469-e8c3aaf15b8f",
        "colab": {
          "base_uri": "https://localhost:8080/",
          "height": 35
        }
      },
      "source": [
        "indices = torch.arange(start = 1,end = 11) % 5\n",
        "b = a[indices[5:]]\n",
        "print(b)"
      ],
      "execution_count": 0,
      "outputs": [
        {
          "output_type": "stream",
          "text": [
            "tensor([1, 2, 3, 4, 0])\n"
          ],
          "name": "stdout"
        }
      ]
    },
    {
      "cell_type": "markdown",
      "metadata": {
        "id": "eQ4ZCVsTk-KH",
        "colab_type": "text"
      },
      "source": [
        "What should we do if we have, say, rank-2-tensor and want to select only some rows?"
      ]
    },
    {
      "cell_type": "code",
      "metadata": {
        "id": "_GtRpotjkt1q",
        "colab_type": "code",
        "outputId": "f41777d9-7f8c-4287-9ba6-7d7cd5d10544",
        "colab": {
          "base_uri": "https://localhost:8080/",
          "height": 139
        }
      },
      "source": [
        "tensor = torch.rand((5, 3))\n",
        "rows = torch.tensor([0, 2])\n",
        "print(tensor)\n",
        "tensor[rows]"
      ],
      "execution_count": 0,
      "outputs": [
        {
          "output_type": "stream",
          "text": [
            "tensor([[0.9252, 0.0698, 0.1529],\n",
            "        [0.6992, 0.8330, 0.7271],\n",
            "        [0.3938, 0.9105, 0.4711],\n",
            "        [0.8296, 0.5002, 0.0853],\n",
            "        [0.8008, 0.7625, 0.8297]])\n"
          ],
          "name": "stdout"
        },
        {
          "output_type": "execute_result",
          "data": {
            "text/plain": [
              "tensor([[0.9252, 0.0698, 0.1529],\n",
              "        [0.3938, 0.9105, 0.4711]])"
            ]
          },
          "metadata": {
            "tags": []
          },
          "execution_count": 19
        }
      ]
    },
    {
      "cell_type": "markdown",
      "metadata": {
        "id": "zIJnr_N2_Qaf",
        "colab_type": "text"
      },
      "source": [
        "\n",
        "\n",
        "---\n",
        "\n",
        "## Question 8: \n",
        "\n",
        "Consider a tensor defined as `torch.rand((6, 5))`. Is the shape of the new tensor created by taking the 0th, 2nd and 4th row of the old tensor same as the shape of the a newer tensor created by taking the 0th, 2nd and 4th row of the old tensor after transposing it by operation `torch.transpose(tensor, 0, 1)` ? Ans: False\n",
        "\n",
        "\n",
        "\n",
        "---\n",
        "\n",
        "\n"
      ]
    },
    {
      "cell_type": "code",
      "metadata": {
        "id": "aM7f0DOlNMKX",
        "colab_type": "code",
        "outputId": "7ec08875-0c71-4163-df23-815deac4f856",
        "colab": {
          "base_uri": "https://localhost:8080/",
          "height": 35
        }
      },
      "source": [
        "# Q8\n",
        "tensor = torch.rand((6,5))\n",
        "new_rows = torch.tensor([0,2,4])\n",
        "tensor[new_rows].shape"
      ],
      "execution_count": 0,
      "outputs": [
        {
          "output_type": "execute_result",
          "data": {
            "text/plain": [
              "torch.Size([3, 5])"
            ]
          },
          "metadata": {
            "tags": []
          },
          "execution_count": 20
        }
      ]
    },
    {
      "cell_type": "code",
      "metadata": {
        "id": "z_F__xNRNhTj",
        "colab_type": "code",
        "outputId": "b1758cae-8ba3-4cc1-a281-1c40799575d5",
        "colab": {
          "base_uri": "https://localhost:8080/",
          "height": 35
        }
      },
      "source": [
        "tensor = torch.rand((6,5))\n",
        "tensor_trans = torch.transpose(tensor,0,1)\n",
        "newer_rows = torch.tensor([0,2,4])\n",
        "tensor_trans[newer_rows].shape"
      ],
      "execution_count": 0,
      "outputs": [
        {
          "output_type": "execute_result",
          "data": {
            "text/plain": [
              "torch.Size([3, 6])"
            ]
          },
          "metadata": {
            "tags": []
          },
          "execution_count": 21
        }
      ]
    },
    {
      "cell_type": "markdown",
      "metadata": {
        "id": "naDzFMkslU0b",
        "colab_type": "text"
      },
      "source": [
        "## Tensor Shapes\n",
        "\n",
        "Reshaping a tensor is a frequently used operation. We can change the shape of a tensor without the memory copying overhead. There are two methods for that: `reshape` and `view`. \n",
        "\n",
        "The difference is the following: \n",
        "\n",
        "\n",
        "*   view tries to return a tensor, and it shares the same memory with the original tensor. In case, if it cannot reuse the same memory due to [some reason](https://pytorch.org/docs/stable/tensors.html?highlight=view#torch.Tensor.view), it just fails. \n",
        "*   reshape always returns the tensor with the desired shape and tries to reuse the memory. If it cannot, it creates a copy\n",
        "\n",
        "Let's see with the help of an example:"
      ]
    },
    {
      "cell_type": "code",
      "metadata": {
        "id": "HClDkqLLlMJh",
        "colab_type": "code",
        "outputId": "0ab54506-8202-4fb7-fa96-4a4e3fdb67ac",
        "colab": {
          "base_uri": "https://localhost:8080/",
          "height": 173
        }
      },
      "source": [
        "tensor = torch.rand(2, 3, 4)\n",
        "print('Pointer to data: ', tensor.data_ptr())\n",
        "print('Shape: ', tensor.shape)\n",
        "\n",
        "reshaped = tensor.reshape(24)\n",
        "print('Reshaped tensor - pointer to data', reshaped.data_ptr())\n",
        "print('Reshaped tensor shape ', reshaped.shape)\n",
        "\n",
        "view = tensor.view(3, 2, 4)\n",
        "print('Viewed tensor - pointer to data', view.data_ptr())\n",
        "print('Viewed tensor shape ', view.shape)\n",
        "\n",
        "assert tensor.data_ptr() == view.data_ptr()\n",
        "\n",
        "assert np.all(np.equal(tensor.numpy().flat, reshaped.numpy().flat))\n",
        "\n",
        "print('Original stride: ', tensor.stride())\n",
        "print('Reshaped stride: ', reshaped.stride())\n",
        "print('Viewed stride: ', view.stride())"
      ],
      "execution_count": 0,
      "outputs": [
        {
          "output_type": "stream",
          "text": [
            "Pointer to data:  74640640\n",
            "Shape:  torch.Size([2, 3, 4])\n",
            "Reshaped tensor - pointer to data 74640640\n",
            "Reshaped tensor shape  torch.Size([24])\n",
            "Viewed tensor - pointer to data 74640640\n",
            "Viewed tensor shape  torch.Size([3, 2, 4])\n",
            "Original stride:  (12, 4, 1)\n",
            "Reshaped stride:  (1,)\n",
            "Viewed stride:  (8, 4, 1)\n"
          ],
          "name": "stdout"
        }
      ]
    },
    {
      "cell_type": "markdown",
      "metadata": {
        "id": "jIN5jSppm4yC",
        "colab_type": "text"
      },
      "source": [
        "The basic rule about reshaping the tensor is definitely that you cannot change the total number of elements in it, so the product of all tensor's dimensions should always be the same. It gives us the ability to avoid specifying one dimension when reshaping the tensor - Pytorch can calculate it for us:"
      ]
    },
    {
      "cell_type": "code",
      "metadata": {
        "id": "e3D19ERFmzOl",
        "colab_type": "code",
        "outputId": "e5f59562-f8a9-4fe7-8498-30d6dc87d98d",
        "colab": {
          "base_uri": "https://localhost:8080/",
          "height": 69
        }
      },
      "source": [
        "print(tensor.reshape(3, 2, 4).shape)\n",
        "print(tensor.reshape(3, 2, -1).shape)\n",
        "print(tensor.reshape(3, -1, 4).shape)"
      ],
      "execution_count": 0,
      "outputs": [
        {
          "output_type": "stream",
          "text": [
            "torch.Size([3, 2, 4])\n",
            "torch.Size([3, 2, 4])\n",
            "torch.Size([3, 2, 4])\n"
          ],
          "name": "stdout"
        }
      ]
    },
    {
      "cell_type": "markdown",
      "metadata": {
        "id": "ObgCQKUiETak",
        "colab_type": "text"
      },
      "source": [
        "\n",
        "\n",
        "---\n",
        "\n",
        "\n",
        "## Question 9:\n",
        "\n",
        "Consider a tensor `a` created with [1, 2, 3] and [1, 2, 3] of size (2, 3) is reshaped with operation `.reshape(-1, 2)`. Also consider a tensor `b` created with [[2, 1]] and of size (1, 2), later operated with `view(2, -1)` operation. \n",
        "\n",
        "If we do a dot product of a and b (using `torch.mm`) and perform the sum of all the elements (using `torch.sum`) what do we get? (enter int value without any decimal point in the quiz)\n",
        "\n",
        "\n",
        "\n",
        "---\n",
        "\n"
      ]
    },
    {
      "cell_type": "code",
      "metadata": {
        "id": "JEyAKwHVR1T0",
        "colab_type": "code",
        "outputId": "774c2b36-273b-4be0-fe51-2b2e5235280a",
        "colab": {
          "base_uri": "https://localhost:8080/",
          "height": 35
        }
      },
      "source": [
        "# Q2\n",
        "a = torch.tensor([[1,2,3],[1,2,3]])\n",
        "a = a.reshape((-1,2))\n",
        "print(a.shape)"
      ],
      "execution_count": 0,
      "outputs": [
        {
          "output_type": "stream",
          "text": [
            "torch.Size([3, 2])\n"
          ],
          "name": "stdout"
        }
      ]
    },
    {
      "cell_type": "code",
      "metadata": {
        "id": "Rh21ULmMSfX2",
        "colab_type": "code",
        "outputId": "c060d39f-9ccd-4203-95d2-7c1e1b79c2c4",
        "colab": {
          "base_uri": "https://localhost:8080/",
          "height": 35
        }
      },
      "source": [
        "b = torch.tensor([[2,1]])\n",
        "b = b.view(2,-1)\n",
        "print(b.shape)"
      ],
      "execution_count": 0,
      "outputs": [
        {
          "output_type": "stream",
          "text": [
            "torch.Size([2, 1])\n"
          ],
          "name": "stdout"
        }
      ]
    },
    {
      "cell_type": "code",
      "metadata": {
        "id": "1DeQiFoxSp27",
        "colab_type": "code",
        "outputId": "b5482991-554e-4ea7-b4dc-67c60e195fc7",
        "colab": {
          "base_uri": "https://localhost:8080/",
          "height": 35
        }
      },
      "source": [
        "print(int(torch.sum(torch.mm(a,b))))"
      ],
      "execution_count": 0,
      "outputs": [
        {
          "output_type": "stream",
          "text": [
            "18\n"
          ],
          "name": "stdout"
        }
      ]
    },
    {
      "cell_type": "markdown",
      "metadata": {
        "id": "mza7QPg3ndeV",
        "colab_type": "text"
      },
      "source": [
        "**Alternative ways to view tensors** - `expand` or `expand_as`.\n",
        "\n",
        "\n",
        "\n",
        "*   `expand` - requires the desired shape as an input\n",
        "*   `expand_as` - uses the shape of another tensor\n",
        "\n",
        "These operations \"repeat\" tensor's values along the specified axes without actually copying the data. \n",
        "\n",
        "As the documentation says, expand:\n",
        "\n",
        "\n",
        "> returns a new view of the self tensor with singleton dimensions expanded to a larger size. Tensor can be also expanded to a larger number of dimensions, and the new ones will be appended at the front. For the new dimensions, the size cannot be set to -1. \n",
        "\n",
        "**Use case:**\n",
        "\n",
        "\n",
        "\n",
        "*   index multi-channel tensor with single-channel mask - imagine a color image with 3 channels (RGB) and binary mask for the area of interest on that image. We cannot index the image with this kind of mask directly since the dimensions are different, but we can use `expand_as` operation to create a view of the mask that has the same dimensions as the image we want to apply it to, but has not copied the data. "
      ]
    },
    {
      "cell_type": "code",
      "metadata": {
        "id": "iz33E-V7nPQT",
        "colab_type": "code",
        "outputId": "c6dcd262-a31d-4c61-ebb8-e23fecdb9c10",
        "colab": {
          "base_uri": "https://localhost:8080/",
          "height": 595
        }
      },
      "source": [
        "%matplotlib inline\n",
        "from matplotlib import pyplot as plt\n",
        "\n",
        "# Create a black image\n",
        "image = torch.zeros(size=(3, 256, 256), dtype=torch.int)\n",
        "\n",
        "# Leave the borders and make the rest of the image Green\n",
        "image[1, 18:256 - 18, 18:256 - 18] = 255\n",
        "\n",
        "# Create a mask of the same size\n",
        "mask = torch.zeros(size=(256, 256), dtype=torch.bool)\n",
        "\n",
        "# Assuming the green region in the original image is the Region of interest, change the mask to white for that area\n",
        "mask[18:256 - 18, 18:256 - 18] = 1\n",
        "\n",
        "# Create a view of the mask with the same dimensions as the original image\n",
        "mask_expanded = mask.expand_as(image)\n",
        "print(mask_expanded.shape)\n",
        "\n",
        "mask_np = mask_expanded.numpy().transpose(1, 2, 0) * 255\n",
        "image_np = image.numpy().transpose(1, 2, 0)\n",
        "\n",
        "fig, ax = plt.subplots(1, 2)\n",
        "ax[0].imshow(image_np)\n",
        "ax[1].imshow(mask_np)\n",
        "plt.show()\n",
        "\n",
        "image[0, mask] += 128\n",
        "fig, ax = plt.subplots(1, 2)\n",
        "ax[0].imshow(image_np)\n",
        "ax[1].imshow(mask_np)\n",
        "plt.show()\n",
        "\n",
        "image[mask_expanded] += 128\n",
        "image.clamp_(0, 255)\n",
        "fig, ax = plt.subplots(1, 2)\n",
        "ax[0].imshow(image_np)\n",
        "ax[1].imshow(mask_np)\n",
        "plt.show()"
      ],
      "execution_count": 0,
      "outputs": [
        {
          "output_type": "stream",
          "text": [
            "torch.Size([3, 256, 256])\n"
          ],
          "name": "stdout"
        },
        {
          "output_type": "display_data",
          "data": {
            "image/png": "[encoded data removed]",
            "text/plain": [
              "<Figure size 432x288 with 2 Axes>"
            ]
          },
          "metadata": {
            "tags": [],
            "needs_background": "light"
          }
        },
        {
          "output_type": "display_data",
          "data": {
            "image/png": "[encoded data removed]",
            "text/plain": [
              "<Figure size 432x288 with 2 Axes>"
            ]
          },
          "metadata": {
            "tags": [],
            "needs_background": "light"
          }
        },
        {
          "output_type": "display_data",
          "data": {
            "image/png": "[encoded data removed]",
            "text/plain": [
              "<Figure size 432x288 with 2 Axes>"
            ]
          },
          "metadata": {
            "tags": [],
            "needs_background": "light"
          }
        }
      ]
    },
    {
      "cell_type": "markdown",
      "metadata": {
        "id": "jiXBx0k3ptOI",
        "colab_type": "text"
      },
      "source": [
        "In the example above, one can also find a couple of useful tricks:\n",
        "\n",
        "\n",
        "*   `clamp` method and function is a Pytorch's analogue of NumPy's `clip` function\n",
        "*   many operations on tensors have in-place form, that does not return modified data, but change values in the tensor. The in-place version of the operation has trailing underscore according to Pytorch's naming convension - in the exmaple above it is `clamp_`\n",
        "*   tensors have the same indexing as Numpy's arrays - one can use `:` seperated range, negative indexes and so on.\n",
        "\n",
        "\n",
        ".\n",
        "\n",
        "\n",
        "---\n",
        "\n",
        "# Images and their representations\n",
        "\n",
        "Now, let's discuss images, their representations and how different Python libraries work with them. \n",
        "\n",
        "Probably, the most well-known library for image loading and simple processing is [Pillow](https://pillow.readthedocs.io/en/stable/). \n",
        "\n",
        "However, many people in deep learning area stick with OpenCV for image loading and processing with some usage of another libraries when it is justified by performance/functionality. This is because OpenCV is in general much faster than the other libraries. Here you can find a couple of benchmarks: \n",
        "\n",
        "*   https://www.kaggle.com/zfturbo/benchmark-2019-speed-of-image-reading\n",
        "*   https://github.com/albumentations-team/albumentations#benchmarking-results\n",
        "\n",
        "To sum up the benchmarks above, there are two most common image formats, PNG and JPEGs. If your data is in PNG format - use OpenCV to read it. If it is in JPEG - use libturbojpeg. For image processing, use OpenCV if possible. _We will be using PIL a lot along with these._\n",
        "\n",
        "As you will read the code from others, you may find out that some of them use Pillow/something else to read data. You should know, that color image representations in OpenCV and other libraries are different - OpenCV uses \"BGR\" channel order, while others use \"RGB\" one. \n",
        "\n",
        "To change \"BRG\" <-> \"RGB\" the only thing we need to do it to change channel order."
      ]
    },
    {
      "cell_type": "code",
      "metadata": {
        "id": "8CPp4scJBqQm",
        "colab_type": "code",
        "outputId": "d2a29da2-17a1-4a91-8d84-fb9c66e1582e",
        "colab": {
          "base_uri": "https://localhost:8080/",
          "height": 124
        }
      },
      "source": [
        "from google.colab import drive\n",
        "\n",
        "# this will prompt for authorization\n",
        "drive.mount('/content/gdrive',force_remount=True)\n",
        "\n",
        "# dataset file path\n",
        "filepath = \"gdrive/My Drive/colab_folder/datasets/\""
      ],
      "execution_count": 0,
      "outputs": [
        {
          "output_type": "stream",
          "text": [
            "Go to this URL in a browser: https://accounts.google.com/o/oauth2/auth?client_id=947318989803-6bn6qk8qdgf4n4g3pfee6491hc0brc4i.apps.googleusercontent.com&redirect_uri=urn%3aietf%3awg%3aoauth%3a2.0%3aoob&response_type=code&scope=email%20https%3a%2f%2fwww.googleapis.com%2fauth%2fdocs.test%20https%3a%2f%2fwww.googleapis.com%2fauth%2fdrive%20https%3a%2f%2fwww.googleapis.com%2fauth%2fdrive.photos.readonly%20https%3a%2f%2fwww.googleapis.com%2fauth%2fpeopleapi.readonly\n",
            "\n",
            "Enter your authorization code:\n",
            "··········\n",
            "Mounted at /content/gdrive\n"
          ],
          "name": "stdout"
        }
      ]
    },
    {
      "cell_type": "code",
      "metadata": {
        "id": "ZYv4sZMmpndu",
        "colab_type": "code",
        "outputId": "38fa5a9f-fb68-4128-bf57-d9ab1c92c336",
        "colab": {
          "base_uri": "https://localhost:8080/",
          "height": 152
        }
      },
      "source": [
        "%matplotlib inline\n",
        "from matplotlib import pyplot as plt\n",
        "import cv2\n",
        "\n",
        "\n",
        "bgr_image = cv2.imread(filepath+'mars.jpg') \n",
        "# remember to add your own image in case you run this block, if you want to use the same image, \n",
        "# download it from: https://encrypted-tbn0.gstatic.com/images?q=tbn%3AANd9GcRCA40ftnscVzfV8ft8e7vIzQXfXeZdtco8nknJrfCUW6INI40U\n",
        "rgb_image = bgr_image[..., ::-1] # instead of bgr_image[:,:,::-1] can use this \n",
        "fig, ax = plt.subplots(1, 2)\n",
        "ax[0].imshow(bgr_image)\n",
        "ax[1].imshow(rgb_image)\n",
        "plt.show()"
      ],
      "execution_count": 0,
      "outputs": [
        {
          "output_type": "display_data",
          "data": {
            "image/png": "[encoded data removed]",
            "text/plain": [
              "<Figure size 432x288 with 2 Axes>"
            ]
          },
          "metadata": {
            "tags": [],
            "needs_background": "light"
          }
        }
      ]
    },
    {
      "cell_type": "code",
      "metadata": {
        "id": "dwVa7LOMDeIN",
        "colab_type": "code",
        "outputId": "22c646d8-bc93-4d9b-90f7-30d0fb5ada9a",
        "colab": {
          "base_uri": "https://localhost:8080/",
          "height": 139
        }
      },
      "source": [
        "# Q10\n",
        "print(bgr_image[:,:,0]) # blue channel (can take sum or mean to compare)"
      ],
      "execution_count": 0,
      "outputs": [
        {
          "output_type": "stream",
          "text": [
            "[[5 5 5 ... 5 5 5]\n",
            " [5 5 5 ... 5 5 5]\n",
            " [5 5 5 ... 5 5 5]\n",
            " ...\n",
            " [5 5 5 ... 5 5 5]\n",
            " [3 4 4 ... 6 6 6]\n",
            " [3 4 4 ... 6 6 6]]\n"
          ],
          "name": "stdout"
        }
      ]
    },
    {
      "cell_type": "code",
      "metadata": {
        "id": "u1RveM1gD5i7",
        "colab_type": "code",
        "outputId": "ee06b682-dee6-4f41-cb47-747dae6c0c74",
        "colab": {
          "base_uri": "https://localhost:8080/",
          "height": 139
        }
      },
      "source": [
        "print(bgr_image[:,:,2]) # red channel"
      ],
      "execution_count": 0,
      "outputs": [
        {
          "output_type": "stream",
          "text": [
            "[[8 8 8 ... 8 8 8]\n",
            " [8 8 8 ... 8 8 8]\n",
            " [8 8 8 ... 8 8 8]\n",
            " ...\n",
            " [8 8 8 ... 8 8 8]\n",
            " [6 7 7 ... 9 9 9]\n",
            " [6 7 7 ... 9 9 9]]\n"
          ],
          "name": "stdout"
        }
      ]
    },
    {
      "cell_type": "markdown",
      "metadata": {
        "id": "yoi4TeNBGHle",
        "colab_type": "text"
      },
      "source": [
        "\n",
        "\n",
        "---\n",
        "\n",
        "## Question 10:\n",
        "\n",
        "Looking at the results above it can be said that the pixel values in the blue channels would be very small compared to red channel. True/False? Ans: True\n",
        "\n",
        "\n",
        "---\n",
        "\n",
        "\n"
      ]
    },
    {
      "cell_type": "markdown",
      "metadata": {
        "id": "b3ugFd57zNwa",
        "colab_type": "text"
      },
      "source": [
        "# Autograd\n",
        "\n",
        "Pytorch supports automatic differentiation. The module which implements this is called **AutoGrad**. It calculates the gradients and keeps track in forward and backward passes. For primitive tensors, you need to enable or disable it using the `required_grad` flag. But, for advanced tensors, it is enabled by default"
      ]
    },
    {
      "cell_type": "code",
      "metadata": {
        "id": "VMOp4aiou6JR",
        "colab_type": "code",
        "outputId": "5c599865-3f67-419c-c454-d01251fb49b5",
        "colab": {
          "base_uri": "https://localhost:8080/",
          "height": 191
        }
      },
      "source": [
        "a = torch.rand((3, 5), requires_grad = True)\n",
        "print(a)\n",
        "result = a * 5\n",
        "print(result)\n",
        "\n",
        "# grad can be implicitly created only for scalar outputs\n",
        "# so let's calculate the sum here so that the output becomes a scalar and we can apply a backward pass\n",
        "mean_result = result.sum()\n",
        "print(mean_result)\n",
        "# calculate gradient\n",
        "mean_result.backward()\n",
        "# print gradient of a\n",
        "print(a.grad)"
      ],
      "execution_count": 0,
      "outputs": [
        {
          "output_type": "stream",
          "text": [
            "tensor([[0.0583, 0.2627, 0.9879, 0.5682, 0.0570],\n",
            "        [0.1553, 0.8325, 0.3682, 0.2947, 0.3625],\n",
            "        [0.2619, 0.6071, 0.2287, 0.8577, 0.7842]], requires_grad=True)\n",
            "tensor([[0.2916, 1.3134, 4.9394, 2.8411, 0.2852],\n",
            "        [0.7764, 4.1626, 1.8410, 1.4737, 1.8127],\n",
            "        [1.3095, 3.0357, 1.1433, 4.2885, 3.9212]], grad_fn=<MulBackward0>)\n",
            "tensor(33.4353, grad_fn=<SumBackward0>)\n",
            "tensor([[5., 5., 5., 5., 5.],\n",
            "        [5., 5., 5., 5., 5.],\n",
            "        [5., 5., 5., 5., 5.]])\n"
          ],
          "name": "stdout"
        }
      ]
    },
    {
      "cell_type": "markdown",
      "metadata": {
        "id": "ym0Amk2IGfLx",
        "colab_type": "text"
      },
      "source": [
        "\n",
        "\n",
        "---\n",
        "\n",
        "## Question 11: \n",
        "\n",
        "Why the gradient of a is all 5s above? Ans: Because that is what it should be based on how result is defined\n",
        "\n",
        "\n",
        "\n",
        "---\n",
        "\n"
      ]
    },
    {
      "cell_type": "markdown",
      "metadata": {
        "id": "7PDgGq2R0k7I",
        "colab_type": "text"
      },
      "source": [
        "As we see, Pytorch automagically calculated the gradient value for us. It looks to be the correct value - we multiplied an input by 5, so the gradient of this operation equals to 5.\n",
        "\n",
        "# Disabling Autograd for tensors\n",
        "\n",
        "We don't need to compute gradients for all the variables that are involved in the pipeline. The Pytorch API provides 2 ways to disable autograd.\n",
        "\n",
        "`detach` - returns a copy of the tensor with autograd disabled. This \n",
        "\n",
        "1.   copy is built on the same memory as the original tensor, so in-place size / stride / storage changes (such as resize_ / resizeas / set / transpose) modifications are not allowed.\n",
        "2.   torch.no_grad() - It is a context manager that allows you to guard a series of operations from autograd without creating new tensors."
      ]
    },
    {
      "cell_type": "code",
      "metadata": {
        "id": "yqVG9fQb0cLW",
        "colab_type": "code",
        "outputId": "2a3b571f-df15-45ea-e5ec-b7aae26fcb9a",
        "colab": {
          "base_uri": "https://localhost:8080/",
          "height": 69
        }
      },
      "source": [
        "a = torch.rand((3, 5), requires_grad=True)\n",
        "detached_a = a.detach()\n",
        "detached_result = detached_a * 5\n",
        "result = a * 10\n",
        "# we cannot do backward pass that is required for autograd using multideminsional output,\n",
        "# so let's calculate the sum here\n",
        "mean_result = result.sum()\n",
        "mean_result.backward()\n",
        "a.grad"
      ],
      "execution_count": 0,
      "outputs": [
        {
          "output_type": "execute_result",
          "data": {
            "text/plain": [
              "tensor([[10., 10., 10., 10., 10.],\n",
              "        [10., 10., 10., 10., 10.],\n",
              "        [10., 10., 10., 10., 10.]])"
            ]
          },
          "metadata": {
            "tags": []
          },
          "execution_count": 39
        }
      ]
    },
    {
      "cell_type": "code",
      "metadata": {
        "id": "uqpch2Be02J7",
        "colab_type": "code",
        "outputId": "8a47ef57-dd0f-4dae-842a-808b15d36113",
        "colab": {
          "base_uri": "https://localhost:8080/",
          "height": 69
        }
      },
      "source": [
        "a = torch.rand((3, 5), requires_grad=True)\n",
        "with torch.no_grad():\n",
        "    detached_result = a * 5\n",
        "result = a * 10\n",
        "# we cannot do backward pass that is required for autograd using multideminsional output,\n",
        "# so let's calculate the sum here\n",
        "mean_result = result.sum()\n",
        "mean_result.backward()\n",
        "a.grad"
      ],
      "execution_count": 0,
      "outputs": [
        {
          "output_type": "execute_result",
          "data": {
            "text/plain": [
              "tensor([[10., 10., 10., 10., 10.],\n",
              "        [10., 10., 10., 10., 10.],\n",
              "        [10., 10., 10., 10., 10.]])"
            ]
          },
          "metadata": {
            "tags": []
          },
          "execution_count": 40
        }
      ]
    },
    {
      "cell_type": "markdown",
      "metadata": {
        "id": "vjh2rYOPJUAZ",
        "colab_type": "text"
      },
      "source": [
        "# Custom Network\n",
        "\n",
        "A fully-connected ReLU network with one hidden layer and no biases, trained to predict y from x by minimizing squared Euclidean distance.\n",
        "\n",
        "This implementation uses PyTorch tensors to manually compute the forward pass, loss, and backward pass.\n",
        "\n",
        "A PyTorch Tensor is basically the same as a numpy array: it does not know anything about deep learning or computational graphs or gradients, and is just a generic n-dimensional array to be used for arbitrary numeric computation.\n",
        "\n",
        "The biggest difference between a numpy array and a PyTorch Tensor is that a PyTorch Tensor can run on either CPU or GPU. To run operations on the GPU, just cast the Tensor to a cuda datatype."
      ]
    },
    {
      "cell_type": "code",
      "metadata": {
        "id": "0nf5RaB104Vp",
        "colab_type": "code",
        "outputId": "afbdc9d1-c19b-4c16-8861-a6894d61380d",
        "colab": {
          "base_uri": "https://localhost:8080/",
          "height": 1000
        }
      },
      "source": [
        "dtype = torch.float\n",
        "device = torch.device(\"cpu\")\n",
        "# device = torch.device(\"cuda:0\") # Uncomment this to run on GPU\n",
        "\n",
        "# N is batch size; D_in is input dimension;\n",
        "# H is hidden dimension; D_out is output dimension.\n",
        "N, D_in, H, D_out = 64, 1000, 100, 10\n",
        "\n",
        "# Create random input and output data\n",
        "x = torch.randn(N, D_in, device=device, dtype=dtype)\n",
        "y = torch.randn(N, D_out, device=device, dtype=dtype)\n",
        "\n",
        "# Randomly initialize weights\n",
        "w1 = torch.randn(D_in, H, device=device, dtype=dtype)\n",
        "w2 = torch.randn(H, D_out, device=device, dtype=dtype)\n",
        "\n",
        "learning_rate = 1e-6\n",
        "for t in range(500):\n",
        "    # Forward pass: compute predicted y\n",
        "    h = x.mm(w1)\n",
        "    h_relu = h.clamp(min=0)\n",
        "    y_pred = h_relu.mm(w2)\n",
        "\n",
        "    # Compute and print loss\n",
        "    loss = (y_pred - y).pow(2).sum().item()\n",
        "    print(t, loss)\n",
        "\n",
        "    # Backprop to compute gradients of w1 and w2 with respect to loss\n",
        "    grad_y_pred = 2*(y_pred - y)\n",
        "    grad_w2 = h_relu.t().mm(grad_y_pred)\n",
        "    grad_h_relu = grad_y_pred.mm(w2.t())\n",
        "    grad_h = grad_h_relu.clone()\n",
        "    grad_h[h < 0] = 0\n",
        "    grad_w1 = x.t().mm(grad_h)\n",
        "\n",
        "    # Update weights using gradient descent\n",
        "    w1 -= learning_rate * grad_w1\n",
        "    w2 -= learning_rate * grad_w2"
      ],
      "execution_count": 0,
      "outputs": [
        {
          "output_type": "stream",
          "text": [
            "0 32089466.0\n",
            "1 31691962.0\n",
            "2 37101752.0\n",
            "3 41137828.0\n",
            "4 37660856.0\n",
            "5 25299734.0\n",
            "6 12915349.0\n",
            "7 5623759.0\n",
            "8 2624994.5\n",
            "9 1488066.375\n",
            "10 1023574.0625\n",
            "11 790927.625\n",
            "12 646592.75\n",
            "13 542675.4375\n",
            "14 461846.25\n",
            "15 396419.03125\n",
            "16 342462.125\n",
            "17 297422.8125\n",
            "18 259414.59375\n",
            "19 227195.9375\n",
            "20 199737.421875\n",
            "21 176210.015625\n",
            "22 155954.421875\n",
            "23 138419.96875\n",
            "24 123197.7734375\n",
            "25 109930.3515625\n",
            "26 98315.1171875\n",
            "27 88124.9140625\n",
            "28 79152.171875\n",
            "29 71231.7578125\n",
            "30 64217.5546875\n",
            "31 57988.73046875\n",
            "32 52443.52734375\n",
            "33 47506.82421875\n",
            "34 43097.1640625\n",
            "35 39149.2578125\n",
            "36 35607.3125\n",
            "37 32423.845703125\n",
            "38 29560.576171875\n",
            "39 26979.5390625\n",
            "40 24647.373046875\n",
            "41 22538.626953125\n",
            "42 20630.892578125\n",
            "43 18901.234375\n",
            "44 17330.95703125\n",
            "45 15903.7958984375\n",
            "46 14605.35546875\n",
            "47 13423.22265625\n",
            "48 12345.0712890625\n",
            "49 11361.74609375\n",
            "50 10463.4443359375\n",
            "51 9642.5625\n",
            "52 8891.7353515625\n",
            "53 8204.17578125\n",
            "54 7574.294921875\n",
            "55 6996.6103515625\n",
            "56 6466.32373046875\n",
            "57 5979.15771484375\n",
            "58 5531.513671875\n",
            "59 5119.74853515625\n",
            "60 4740.75439453125\n",
            "61 4391.9033203125\n",
            "62 4070.6904296875\n",
            "63 3774.410400390625\n",
            "64 3501.072021484375\n",
            "65 3248.908203125\n",
            "66 3016.2041015625\n",
            "67 2801.15869140625\n",
            "68 2602.384033203125\n",
            "69 2418.5361328125\n",
            "70 2248.578857421875\n",
            "71 2091.19189453125\n",
            "72 1945.4580078125\n",
            "73 1810.4847412109375\n",
            "74 1685.4730224609375\n",
            "75 1569.53173828125\n",
            "76 1461.993408203125\n",
            "77 1362.2261962890625\n",
            "78 1269.680908203125\n",
            "79 1183.7265625\n",
            "80 1103.8714599609375\n",
            "81 1029.7242431640625\n",
            "82 960.7831420898438\n",
            "83 896.701904296875\n",
            "84 837.1061401367188\n",
            "85 781.6541748046875\n",
            "86 730.0399169921875\n",
            "87 681.9962158203125\n",
            "88 637.3016967773438\n",
            "89 595.6456909179688\n",
            "90 556.8184204101562\n",
            "91 520.646240234375\n",
            "92 486.92425537109375\n",
            "93 455.50689697265625\n",
            "94 426.1884765625\n",
            "95 398.8332214355469\n",
            "96 373.30120849609375\n",
            "97 349.47003173828125\n",
            "98 327.23382568359375\n",
            "99 306.4696044921875\n",
            "100 287.0693359375\n",
            "101 268.94818115234375\n",
            "102 252.01678466796875\n",
            "103 236.18617248535156\n",
            "104 221.39834594726562\n",
            "105 207.5634765625\n",
            "106 194.62210083007812\n",
            "107 182.51763916015625\n",
            "108 171.1960906982422\n",
            "109 160.60018920898438\n",
            "110 150.6866455078125\n",
            "111 141.3994903564453\n",
            "112 132.70831298828125\n",
            "113 124.56612396240234\n",
            "114 116.94290924072266\n",
            "115 109.79988098144531\n",
            "116 103.10962677001953\n",
            "117 96.84070587158203\n",
            "118 90.96110534667969\n",
            "119 85.44904327392578\n",
            "120 80.28218078613281\n",
            "121 75.43746185302734\n",
            "122 70.8963851928711\n",
            "123 66.63510131835938\n",
            "124 62.637115478515625\n",
            "125 58.88587951660156\n",
            "126 55.365478515625\n",
            "127 52.06124496459961\n",
            "128 48.96059036254883\n",
            "129 46.050437927246094\n",
            "130 43.31578826904297\n",
            "131 40.74850845336914\n",
            "132 38.33755874633789\n",
            "133 36.07225036621094\n",
            "134 33.944217681884766\n",
            "135 31.946975708007812\n",
            "136 30.06972312927246\n",
            "137 28.304447174072266\n",
            "138 26.644527435302734\n",
            "139 25.085285186767578\n",
            "140 23.619003295898438\n",
            "141 22.24126434326172\n",
            "142 20.945396423339844\n",
            "143 19.727338790893555\n",
            "144 18.581172943115234\n",
            "145 17.502979278564453\n",
            "146 16.488719940185547\n",
            "147 15.534826278686523\n",
            "148 14.63770866394043\n",
            "149 13.793269157409668\n",
            "150 12.999387741088867\n",
            "151 12.250910758972168\n",
            "152 11.54762077331543\n",
            "153 10.88447380065918\n",
            "154 10.260496139526367\n",
            "155 9.672636985778809\n",
            "156 9.120630264282227\n",
            "157 8.599239349365234\n",
            "158 8.108769416809082\n",
            "159 7.646460056304932\n",
            "160 7.211261749267578\n",
            "161 6.801269054412842\n",
            "162 6.41471529006958\n",
            "163 6.051064491271973\n",
            "164 5.708620548248291\n",
            "165 5.385127067565918\n",
            "166 5.080749988555908\n",
            "167 4.793430805206299\n",
            "168 4.522907733917236\n",
            "169 4.267699241638184\n",
            "170 4.027247428894043\n",
            "171 3.8006227016448975\n",
            "172 3.5871567726135254\n",
            "173 3.385528802871704\n",
            "174 3.1954941749572754\n",
            "175 3.0160841941833496\n",
            "176 2.846958637237549\n",
            "177 2.6878983974456787\n",
            "178 2.537529468536377\n",
            "179 2.395753860473633\n",
            "180 2.261862277984619\n",
            "181 2.1357922554016113\n",
            "182 2.016735553741455\n",
            "183 1.9044404029846191\n",
            "184 1.798372745513916\n",
            "185 1.6983404159545898\n",
            "186 1.6040105819702148\n",
            "187 1.515106439590454\n",
            "188 1.430944561958313\n",
            "189 1.3514742851257324\n",
            "190 1.2767826318740845\n",
            "191 1.2060291767120361\n",
            "192 1.1392351388931274\n",
            "193 1.0763009786605835\n",
            "194 1.0168147087097168\n",
            "195 0.9608306884765625\n",
            "196 0.9077394604682922\n",
            "197 0.8577585220336914\n",
            "198 0.8104997873306274\n",
            "199 0.7659111618995667\n",
            "200 0.7236819267272949\n",
            "201 0.683910071849823\n",
            "202 0.646344780921936\n",
            "203 0.6109311580657959\n",
            "204 0.5774329900741577\n",
            "205 0.5456725358963013\n",
            "206 0.5158276557922363\n",
            "207 0.48753446340560913\n",
            "208 0.46089744567871094\n",
            "209 0.4355870187282562\n",
            "210 0.4118741452693939\n",
            "211 0.3893727660179138\n",
            "212 0.3680892288684845\n",
            "213 0.34804287552833557\n",
            "214 0.32902175188064575\n",
            "215 0.31103435158729553\n",
            "216 0.29409703612327576\n",
            "217 0.27806776762008667\n",
            "218 0.26290205121040344\n",
            "219 0.24859198927879333\n",
            "220 0.235122948884964\n",
            "221 0.22231946885585785\n",
            "222 0.21023496985435486\n",
            "223 0.19882725179195404\n",
            "224 0.18804728984832764\n",
            "225 0.17786160111427307\n",
            "226 0.168169304728508\n",
            "227 0.15904907882213593\n",
            "228 0.15047422051429749\n",
            "229 0.1423117071390152\n",
            "230 0.13459324836730957\n",
            "231 0.1273079514503479\n",
            "232 0.12045348435640335\n",
            "233 0.1139698401093483\n",
            "234 0.10780645161867142\n",
            "235 0.10193078964948654\n",
            "236 0.09645655751228333\n",
            "237 0.0912318155169487\n",
            "238 0.08632278442382812\n",
            "239 0.08165804296731949\n",
            "240 0.07724791765213013\n",
            "241 0.07310561090707779\n",
            "242 0.06915196776390076\n",
            "243 0.06544635444879532\n",
            "244 0.06193239986896515\n",
            "245 0.058579351752996445\n",
            "246 0.05541909858584404\n",
            "247 0.05246168375015259\n",
            "248 0.04963064566254616\n",
            "249 0.04696732014417648\n",
            "250 0.044464390724897385\n",
            "251 0.04208633676171303\n",
            "252 0.0398426353931427\n",
            "253 0.03769872710108757\n",
            "254 0.03567647561430931\n",
            "255 0.03376046195626259\n",
            "256 0.03194935619831085\n",
            "257 0.030239848420023918\n",
            "258 0.028646131977438927\n",
            "259 0.027114365249872208\n",
            "260 0.02567312866449356\n",
            "261 0.02428990975022316\n",
            "262 0.023009929805994034\n",
            "263 0.02179059013724327\n",
            "264 0.020619168877601624\n",
            "265 0.019532963633537292\n",
            "266 0.018504604697227478\n",
            "267 0.01751941628754139\n",
            "268 0.01659739576280117\n",
            "269 0.01571667566895485\n",
            "270 0.014893634244799614\n",
            "271 0.01410751324146986\n",
            "272 0.013356425799429417\n",
            "273 0.012654825113713741\n",
            "274 0.011990330182015896\n",
            "275 0.011363531462848186\n",
            "276 0.010766190476715565\n",
            "277 0.010206583887338638\n",
            "278 0.009686981327831745\n",
            "279 0.009176347404718399\n",
            "280 0.008701268583536148\n",
            "281 0.00824452843517065\n",
            "282 0.007818636484444141\n",
            "283 0.007406956050544977\n",
            "284 0.007025051862001419\n",
            "285 0.006662482395768166\n",
            "286 0.006323693785816431\n",
            "287 0.00600555632263422\n",
            "288 0.005698544904589653\n",
            "289 0.005410490557551384\n",
            "290 0.005139406304806471\n",
            "291 0.004879597574472427\n",
            "292 0.00463669840246439\n",
            "293 0.004404959734529257\n",
            "294 0.004186833743005991\n",
            "295 0.003981306217610836\n",
            "296 0.0037811973597854376\n",
            "297 0.003595139365643263\n",
            "298 0.003422170877456665\n",
            "299 0.0032530026510357857\n",
            "300 0.0031004094053059816\n",
            "301 0.0029494238551706076\n",
            "302 0.0028082956559956074\n",
            "303 0.0026726904325187206\n",
            "304 0.002543384674936533\n",
            "305 0.002424654783681035\n",
            "306 0.0023099915124475956\n",
            "307 0.0022042589262127876\n",
            "308 0.0021027603652328253\n",
            "309 0.0020054522901773453\n",
            "310 0.0019155384507030249\n",
            "311 0.001827130327001214\n",
            "312 0.0017446340061724186\n",
            "313 0.001666095806285739\n",
            "314 0.0015909613575786352\n",
            "315 0.0015227100811898708\n",
            "316 0.0014561369316652417\n",
            "317 0.0013925275998190045\n",
            "318 0.0013343562604859471\n",
            "319 0.0012783127604052424\n",
            "320 0.0012222232762724161\n",
            "321 0.001171415438875556\n",
            "322 0.0011226920178160071\n",
            "323 0.0010772815439850092\n",
            "324 0.001031561754643917\n",
            "325 0.0009894254617393017\n",
            "326 0.0009503162000328302\n",
            "327 0.0009120051981881261\n",
            "328 0.0008757855393923819\n",
            "329 0.0008415178162977099\n",
            "330 0.0008102411520667374\n",
            "331 0.0007764356560073793\n",
            "332 0.0007484469097107649\n",
            "333 0.0007192468037828803\n",
            "334 0.0006924096378497779\n",
            "335 0.0006671927403658628\n",
            "336 0.0006424812017939985\n",
            "337 0.0006188421975821257\n",
            "338 0.0005965256132185459\n",
            "339 0.0005741556524299085\n",
            "340 0.0005534234223887324\n",
            "341 0.0005344045930542052\n",
            "342 0.000515434134285897\n",
            "343 0.0004983714898116887\n",
            "344 0.00048265481018461287\n",
            "345 0.00046529213432222605\n",
            "346 0.0004506475233938545\n",
            "347 0.00043395848479121923\n",
            "348 0.0004200706316623837\n",
            "349 0.0004060349892824888\n",
            "350 0.00039213834679685533\n",
            "351 0.00037979535409249365\n",
            "352 0.0003681299858726561\n",
            "353 0.00035769116948358715\n",
            "354 0.0003452140081208199\n",
            "355 0.00033493462251499295\n",
            "356 0.00032398910843767226\n",
            "357 0.0003138938045594841\n",
            "358 0.00030494414386339486\n",
            "359 0.0002953540242742747\n",
            "360 0.00028632525936700404\n",
            "361 0.00027814743225462735\n",
            "362 0.00026948543381877244\n",
            "363 0.0002620525483507663\n",
            "364 0.0002544962044339627\n",
            "365 0.00024812170886434615\n",
            "366 0.00024067242338787764\n",
            "367 0.00023360547493211925\n",
            "368 0.00022752530639991164\n",
            "369 0.00022188315051607788\n",
            "370 0.00021561399626079947\n",
            "371 0.00020949976169504225\n",
            "372 0.00020370760466903448\n",
            "373 0.0001988468284253031\n",
            "374 0.00019365506886970252\n",
            "375 0.00018841461860574782\n",
            "376 0.0001833972637541592\n",
            "377 0.0001788739173207432\n",
            "378 0.00017470426973886788\n",
            "379 0.00016985838010441512\n",
            "380 0.00016559618234168738\n",
            "381 0.00016206740110646933\n",
            "382 0.00015786993026267737\n",
            "383 0.00015390419866889715\n",
            "384 0.0001504231768194586\n",
            "385 0.0001473967859055847\n",
            "386 0.00014348604599945247\n",
            "387 0.00014016228669788688\n",
            "388 0.00013667625898960978\n",
            "389 0.00013338391727302223\n",
            "390 0.000130674903630279\n",
            "391 0.00012726421118713915\n",
            "392 0.00012465575127862394\n",
            "393 0.0001217851386172697\n",
            "394 0.00011897602234967053\n",
            "395 0.00011649727821350098\n",
            "396 0.00011420507507864386\n",
            "397 0.00011119700502604246\n",
            "398 0.00010896549065364525\n",
            "399 0.00010649581236066297\n",
            "400 0.00010418848978588358\n",
            "401 0.00010228266182821244\n",
            "402 0.00010000393376685679\n",
            "403 9.80654513114132e-05\n",
            "404 9.607196261640638e-05\n",
            "405 9.430375212104991e-05\n",
            "406 9.272931492887437e-05\n",
            "407 9.073627006728202e-05\n",
            "408 8.890422759577632e-05\n",
            "409 8.731285925023258e-05\n",
            "410 8.528540638508275e-05\n",
            "411 8.35670143715106e-05\n",
            "412 8.220958261517808e-05\n",
            "413 8.090178744168952e-05\n",
            "414 7.957288471516222e-05\n",
            "415 7.781700696796179e-05\n",
            "416 7.624820864293724e-05\n",
            "417 7.496969192288816e-05\n",
            "418 7.388537051156163e-05\n",
            "419 7.240950071718544e-05\n",
            "420 7.103465759428218e-05\n",
            "421 6.972419214434922e-05\n",
            "422 6.853429658804089e-05\n",
            "423 6.776570080546662e-05\n",
            "424 6.645180110353976e-05\n",
            "425 6.529888196382672e-05\n",
            "426 6.440046854550019e-05\n",
            "427 6.36369877611287e-05\n",
            "428 6.254087202250957e-05\n",
            "429 6.149378896225244e-05\n",
            "430 6.0433103499235585e-05\n",
            "431 5.94612502027303e-05\n",
            "432 5.85211455472745e-05\n",
            "433 5.768455594079569e-05\n",
            "434 5.6649205362191424e-05\n",
            "435 5.5733995395712554e-05\n",
            "436 5.5065313063096255e-05\n",
            "437 5.431304089142941e-05\n",
            "438 5.344250166672282e-05\n",
            "439 5.259607860352844e-05\n",
            "440 5.18160049978178e-05\n",
            "441 5.1070273912046105e-05\n",
            "442 5.023930498282425e-05\n",
            "443 4.962975435773842e-05\n",
            "444 4.8643749323673546e-05\n",
            "445 4.786407953361049e-05\n",
            "446 4.72407991765067e-05\n",
            "447 4.657881800085306e-05\n",
            "448 4.6026041673030704e-05\n",
            "449 4.5536424295278266e-05\n",
            "450 4.486368561629206e-05\n",
            "451 4.44359757238999e-05\n",
            "452 4.374197305878624e-05\n",
            "453 4.321350934333168e-05\n",
            "454 4.2702758946688846e-05\n",
            "455 4.208450627629645e-05\n",
            "456 4.1530489397700876e-05\n",
            "457 4.110578083782457e-05\n",
            "458 4.053456359542906e-05\n",
            "459 3.9864589780336246e-05\n",
            "460 3.9316510083153844e-05\n",
            "461 3.904346522176638e-05\n",
            "462 3.849232234642841e-05\n",
            "463 3.779937469516881e-05\n",
            "464 3.742597982636653e-05\n",
            "465 3.703837501234375e-05\n",
            "466 3.650207509053871e-05\n",
            "467 3.6258068575989455e-05\n",
            "468 3.587607352528721e-05\n",
            "469 3.533662675181404e-05\n",
            "470 3.4859600418712944e-05\n",
            "471 3.440092405071482e-05\n",
            "472 3.4220327506773174e-05\n",
            "473 3.365011798450723e-05\n",
            "474 3.345946242916398e-05\n",
            "475 3.311283217044547e-05\n",
            "476 3.2757448934717104e-05\n",
            "477 3.2416690373793244e-05\n",
            "478 3.198976628482342e-05\n",
            "479 3.1803461752133444e-05\n",
            "480 3.1532901630271226e-05\n",
            "481 3.1114665034692734e-05\n",
            "482 3.082282273680903e-05\n",
            "483 3.0456756576313637e-05\n",
            "484 3.0209992473828606e-05\n",
            "485 2.9830256607965566e-05\n",
            "486 2.9482791433110833e-05\n",
            "487 2.9135328077245504e-05\n",
            "488 2.883102570194751e-05\n",
            "489 2.84311445284402e-05\n",
            "490 2.8162572561996058e-05\n",
            "491 2.793457497318741e-05\n",
            "492 2.7653437427943572e-05\n",
            "493 2.7474363378132693e-05\n",
            "494 2.7143714760313742e-05\n",
            "495 2.6799829356605187e-05\n",
            "496 2.668643355718814e-05\n",
            "497 2.6497409635339864e-05\n",
            "498 2.6130406695301645e-05\n",
            "499 2.5788565835682675e-05\n"
          ],
          "name": "stdout"
        }
      ]
    },
    {
      "cell_type": "markdown",
      "metadata": {
        "id": "ycwxAPHZLNST",
        "colab_type": "text"
      },
      "source": [
        "\n",
        "\n",
        "---\n",
        "## Question 12\n",
        "\n",
        "In the code above, why do we have 2 in 2.0*(y_pred - y)? Ans: \n",
        "* It does serve the purpose, but we can run the code without it as well, and the model will get trained, though mathematically we would not be accurate in calling it proper gradient. (without \"2\" convergence is slower, loss is still higher)\n",
        "\n",
        "* We are calculating the gradient of y which is derivate of (y_pred - y)^2. When we perform derivative of a squared entity, \"2\" comes as a multiplier.\n",
        "\n",
        "## Question 13\n",
        "In the code above, what does `grad_h[h < 0] = 0` signify? Ans: This operation refers to the derivative of ReLU function\n",
        "\n",
        "## Question 14\n",
        "In the code above, how many \"epochs\" have we trained the model for? Ans: 500\n",
        "\n",
        "## Question 15\n",
        "In the code above, if we take the trained model, and run it on fresh  inputs, the trained model will be able to predict fresh output with high accuracy. Ans: False \n",
        "\n",
        "## Question 16\n",
        "In the code above, if we dont use clone in `grad_h = grad_h_relu.clone()` the model will still train without any issues. Ans: True "
      ]
    },
    {
      "cell_type": "markdown",
      "metadata": {
        "id": "YnzG31ut_pG1",
        "colab_type": "text"
      },
      "source": [
        "## Quiz:\n",
        "1. (Mostly) whenever we see kernel visualizations online (or some other reference) we are actually seeing:\n",
        " \n",
        " What kernels extract.\n",
        "\n",
        "2. What all do we need to consider when we decide the number of kernels in our 11x11 receptive field layer?\n",
        " \n",
        " * Expressiveness required.\n",
        " * Inter and intra class variations.\n",
        " * Hardware capacity.\n",
        "\n",
        "3. Select the ones which are true\n",
        "   \n",
        "  *  We use strides sometimes on resource constraint hardware.\n",
        "  * We tend not to use strides as they do not read spatial data evenly, causing checkboard issue.\n",
        "  * When using strides, the channels created after convolutions are blurry (not consistent).\n",
        "\n",
        "4. What are the benefits of 1x1 Convolution?\n",
        " \n",
        " * Lesser computation requirement for reducing the number of channels.\n",
        " * Use of existing channels to create complex channels (instead of re-convolution).\n",
        " * Less number of parameters.\n",
        " * Reduces the burden of channel selection on 3x3. \n",
        "\n",
        "5. Why do we not use 1x1 to increase the number of channels? \n",
        " \n",
        "  That's not true. We can use 1x1 to increase the number of channels, just that we need to have a purpose.\n",
        "\n",
        "6. Why do we need an activation function?\n",
        "\n",
        " * To  provide decision making power to the neurons/DNN.\n",
        " * To provide non-linearity.\n",
        "\n",
        "7. Why do we need non-linearity in our neural networks?\n",
        " \n",
        " * Not everything can be expressed using linear functions.\n",
        " * Non-linearity allows DNN to act like a Universal Approximation Function.\n",
        "\n",
        "8. Why sigmoid activation functions are not used? \n",
        " \n",
        " * They cause vanishing gradient issue.\n",
        "\n",
        "9. Select which activation function you'll use in CNN.\n",
        " \n",
        " ReLU\n",
        "\n",
        "10. You'll try and never use Fully Connected Layers?\n",
        " \n",
        " Yes.\n",
        "\n",
        "11. Why do we generally not prefer to add stride of more than 1?\n",
        " \n",
        " It causes checkerboard issue, as we are not reading all pixels equal number of time (ignoring the corner pixels)\n",
        "\n",
        "12. What all features does ReLU provide us?\n",
        " \n",
        " * Easy way to communicate with BackProp to use negative values if that information needs to be filtered out.\n",
        " * Easy way to communicate with BackProp to use positive values if some information needs to be not filtered out.\n",
        " * Very low computation requirements.\n",
        "\n",
        "13. ReLU is defined as:\n",
        "\n",
        " 0 when x is less than or equal to zero\n",
        "\n",
        " x when x is more than zero\n",
        "\n",
        " Any activation function must be differentiable if we were to use it in our DNNs (else backprop would not work). Knowing that we indeed use ReLU, what do you think is the derivative of ReLU?\n",
        "  \n",
        "  0 when x is less than or equal to zero, 1 when x is positive.\n",
        "\n",
        "14. We know that when we use a kernel of size 3x3 and a stride of 1, the receptive field increases by 2. \n",
        "\n",
        " If we use MaxPooling with kernel size 3x3 and with a stride of 1, will the receptive field increase by 2? \n",
        "\n",
        " True.\n",
        "\n",
        "\n",
        "\n",
        "\n",
        " \n"
      ]
    },
    {
      "cell_type": "markdown",
      "metadata": {
        "id": "SH7Yp7h9F_c7",
        "colab_type": "text"
      },
      "source": [
        "### That's all Folks!"
      ]
    }
  ]
}